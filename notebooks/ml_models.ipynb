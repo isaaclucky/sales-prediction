{
  "cells": [
    {
      "cell_type": "code",
      "execution_count": 1,
      "metadata": {
        "id": "Wjv8Nc3urzLN"
      },
      "outputs": [],
      "source": [
        "import pandas as pd\n",
        "import numpy as np\n",
        "import io\n",
        "import dvc.api\n",
        "# from pandas_profiling import ProfileReport\n",
        "import matplotlib.pyplot as plt\n",
        "import seaborn as sns\n",
        "import sys, os\n",
        "\n",
        "import warnings; warnings.simplefilter('ignore')"
      ]
    },
    {
      "cell_type": "code",
      "execution_count": null,
      "metadata": {
        "id": "Fz0UP3G7sApr"
      },
      "outputs": [],
      "source": [
        "# !pip install dvc[gdrive]"
      ]
    },
    {
      "cell_type": "code",
      "execution_count": null,
      "metadata": {
        "colab": {
          "base_uri": "https://localhost:8080/"
        },
        "id": "H2gdSx8PsExc",
        "outputId": "87e4a68a-8189-4e8b-cfe4-417bc0324df4"
      },
      "outputs": [
        {
          "name": "stdout",
          "output_type": "stream",
          "text": [
            "Cloning into 'sales-prediction'...\n",
            "remote: Enumerating objects: 224, done.\u001b[K\n",
            "remote: Counting objects: 100% (224/224), done.\u001b[K\n",
            "remote: Compressing objects: 100% (153/153), done.\u001b[K\n",
            "remote: Total 224 (delta 75), reused 153 (delta 34), pack-reused 0\u001b[K\n",
            "Receiving objects: 100% (224/224), 2.97 MiB | 7.16 MiB/s, done.\n",
            "Resolving deltas: 100% (75/75), done.\n"
          ]
        }
      ],
      "source": [
        "# !git clone https://github.com/isaaclucky/sales-prediction.git "
      ]
    },
    {
      "cell_type": "code",
      "execution_count": null,
      "metadata": {
        "colab": {
          "base_uri": "https://localhost:8080/"
        },
        "id": "xgxyM55xsTVI",
        "outputId": "84116a08-6043-4dab-a3f7-3a38f6b6e5aa"
      },
      "outputs": [
        {
          "name": "stdout",
          "output_type": "stream",
          "text": [
            "/content/sales-prediction\n"
          ]
        }
      ],
      "source": [
        "# cd sales-prediction/"
      ]
    },
    {
      "cell_type": "code",
      "execution_count": 2,
      "metadata": {
        "colab": {
          "base_uri": "https://localhost:8080/"
        },
        "id": "wC3Xf1qusXn2",
        "outputId": "503dbe39-003b-4ab4-fcc9-8600e583a174"
      },
      "outputs": [],
      "source": [
        "# !dvc pull "
      ]
    },
    {
      "cell_type": "code",
      "execution_count": 61,
      "metadata": {
        "id": "k_JI5I46rzLP"
      },
      "outputs": [],
      "source": [
        "from sklearn.pipeline import make_pipeline\n",
        "from sklearn.compose import ColumnTransformer\n",
        "from sklearn.preprocessing import StandardScaler, PowerTransformer, OneHotEncoder\n",
        "from sklearn.impute import SimpleImputer\n",
        "from sklearn.model_selection import train_test_split\n",
        "from sklearn.linear_model import LinearRegression\n",
        "from sklearn.ensemble import RandomForestRegressor\n",
        "from sklearn.tree import DecisionTreeRegressor\n",
        "\n",
        "from sklearn.pipeline import Pipeline\n",
        "from sklearn.metrics import mean_squared_error, mean_absolute_error, r2_score\n",
        "import mlflow \n",
        "import mlflow.sklearn"
      ]
    },
    {
      "cell_type": "code",
      "execution_count": null,
      "metadata": {
        "id": "D4AX9AG4rzLP"
      },
      "outputs": [],
      "source": [
        "# path=\"data/df_test.csv\"\n",
        "# repo='../'\n",
        "# version=\"V1.0\"\n",
        "\n",
        "# data_url = dvc.api.read(path=path,\n",
        "#                     repo=repo,\n",
        "#                     rev=version\n",
        "#                     )"
      ]
    },
    {
      "cell_type": "code",
      "execution_count": 37,
      "metadata": {},
      "outputs": [],
      "source": [
        "\n",
        "\n",
        "import numpy as np \n",
        "import pandas as pd"
      ]
    },
    {
      "cell_type": "code",
      "execution_count": 57,
      "metadata": {},
      "outputs": [
        {
          "data": {
            "text/plain": [
              "0"
            ]
          },
          "execution_count": 57,
          "metadata": {},
          "output_type": "execute_result"
        }
      ],
      "source": [
        "np.random.randint(0,4)"
      ]
    },
    {
      "cell_type": "code",
      "execution_count": 3,
      "metadata": {
        "id": "Wq8hURbIrzLP"
      },
      "outputs": [
        {
          "name": "stderr",
          "output_type": "stream",
          "text": [
            "/home/owon/anaconda3/envs/issue/lib/python3.7/site-packages/IPython/core/interactiveshell.py:3553: DtypeWarning: Columns (8) have mixed types.Specify dtype option on import or set low_memory=False.\n",
            "  exec(code_obj, self.user_global_ns, self.user_ns)\n",
            "/home/owon/anaconda3/envs/issue/lib/python3.7/site-packages/IPython/core/interactiveshell.py:3553: DtypeWarning: Columns (6) have mixed types.Specify dtype option on import or set low_memory=False.\n",
            "  exec(code_obj, self.user_global_ns, self.user_ns)\n"
          ]
        }
      ],
      "source": [
        "\n",
        "\n",
        "df_train = pd.read_csv('../data/df_train_prep.csv')\n",
        "df_test = pd.read_csv('../data/df_test_prep.csv')"
      ]
    },
    {
      "cell_type": "code",
      "execution_count": 60,
      "metadata": {
        "id": "_broOP_IrzLQ"
      },
      "outputs": [],
      "source": [
        "df_train.StateHoliday = df_train.StateHoliday.astype('string')\n",
        "df_test.StateHoliday = df_test.StateHoliday.astype('string')"
      ]
    },
    {
      "cell_type": "code",
      "execution_count": 62,
      "metadata": {
        "id": "TgbLn2l0rzLQ"
      },
      "outputs": [],
      "source": [
        "X_train = df_train.drop(columns=['Sales','Customers','Date','Unnamed: 0'],axis=1).copy(deep=True)\n",
        "Y_train = df_train['Sales'].copy(deep=True)\n",
        "X_test =df_test.drop(columns=['Unnamed: 0'],axis=1).copy(deep=True)"
      ]
    },
    {
      "cell_type": "code",
      "execution_count": 63,
      "metadata": {
        "id": "JW_VPg0CrzLQ"
      },
      "outputs": [],
      "source": [
        "cont_cols = ['DayOfWeek', 'Until_Holiday', 'Since_Holiday','CompetitionOpenMonthDuration','CompetitionDistance','PromoOpenMonthDuration']\n",
        "num_cols = list(X_train.select_dtypes(include = 'number').columns)\n",
        "cat_cols = list(set(X_train.columns)-set(num_cols))\n",
        "disc_cols = list(set(num_cols) - set(cont_cols))\n"
      ]
    },
    {
      "cell_type": "code",
      "execution_count": 78,
      "metadata": {},
      "outputs": [],
      "source": [
        "if 'a' in df_test.columns:\n",
        "    print('a')"
      ]
    },
    {
      "cell_type": "code",
      "execution_count": 64,
      "metadata": {
        "id": "S0aPa9GlrzLQ"
      },
      "outputs": [],
      "source": [
        "cont_pipeline = make_pipeline(\n",
        "    SimpleImputer(strategy = 'median'),\n",
        "    PowerTransformer(method = 'yeo-johnson', standardize = False),\n",
        "    StandardScaler()\n",
        ")\n",
        "disc_pipeline = make_pipeline(\n",
        "    SimpleImputer(strategy = 'constant', fill_value = -1),\n",
        "    StandardScaler()\n",
        ")\n",
        "cat_pipeline = make_pipeline(\n",
        "    SimpleImputer(strategy = 'constant', fill_value = 'unknown'),\n",
        "    OneHotEncoder()\n",
        ")\n",
        "\n",
        "\n",
        "preprocessor = ColumnTransformer(\n",
        "    transformers = [\n",
        "        ('continuous', cont_pipeline, cont_cols),\n",
        "        ('discrete', disc_pipeline, disc_cols),\n",
        "        ('categorical', cat_pipeline, cat_cols)\n",
        "    ]\n",
        ")\n",
        "\n",
        "\n"
      ]
    },
    {
      "cell_type": "code",
      "execution_count": 70,
      "metadata": {},
      "outputs": [],
      "source": [
        "from pickle import load\n",
        "prep = load(open('../models/data_transformer.pkl', 'rb'))"
      ]
    },
    {
      "cell_type": "code",
      "execution_count": 68,
      "metadata": {},
      "outputs": [],
      "source": [
        "# from pickle import dump\n",
        "# dump(preprocessor, open('../models/data_transformer.pkl', 'wb'))"
      ]
    },
    {
      "cell_type": "code",
      "execution_count": 10,
      "metadata": {
        "colab": {
          "base_uri": "https://localhost:8080/"
        },
        "id": "z47Y8r7ZrzLR",
        "outputId": "94f4d2f9-9a3f-4767-e8ab-bfcd92f8906d"
      },
      "outputs": [
        {
          "data": {
            "text/plain": [
              "ColumnTransformer(transformers=[('continuous',\n",
              "                                 Pipeline(steps=[('simpleimputer',\n",
              "                                                  SimpleImputer(strategy='median')),\n",
              "                                                 ('powertransformer',\n",
              "                                                  PowerTransformer(standardize=False)),\n",
              "                                                 ('standardscaler',\n",
              "                                                  StandardScaler())]),\n",
              "                                 ['DayOfWeek', 'Until_Holiday', 'Since_Holiday',\n",
              "                                  'CompetitionOpenMonthDuration',\n",
              "                                  'CompetitionDistance',\n",
              "                                  'PromoOpenMonthDuration']),\n",
              "                                ('discrete',\n",
              "                                 Pipel...\n",
              "                                 ['DayOfYear', 'Week', 'Quarter', 'Open', 'Day',\n",
              "                                  'SchoolHoliday', 'Promo', 'Promo2', 'Store',\n",
              "                                  'IsWeekDay', 'Year', 'Month', 'WeekOfYear']),\n",
              "                                ('categorical',\n",
              "                                 Pipeline(steps=[('simpleimputer',\n",
              "                                                  SimpleImputer(fill_value='unknown',\n",
              "                                                                strategy='constant')),\n",
              "                                                 ('onehotencoder',\n",
              "                                                  OneHotEncoder())]),\n",
              "                                 ['PromoInterval', 'Season', 'StoreType',\n",
              "                                  'Assortment', 'Month_Status',\n",
              "                                  'StateHoliday'])])"
            ]
          },
          "execution_count": 10,
          "metadata": {},
          "output_type": "execute_result"
        }
      ],
      "source": [
        "preprocessor.fit(X_train)\n",
        "preprocessor.fit(X_test)\n"
      ]
    },
    {
      "cell_type": "code",
      "execution_count": 11,
      "metadata": {
        "id": "IjN9bF2TrzLR"
      },
      "outputs": [],
      "source": [
        "\n",
        "def eval_metrics(actual, pred, verbose=True):\n",
        "    rmse = np.sqrt(mean_squared_error(actual, pred))\n",
        "    mae = mean_absolute_error(actual, pred)\n",
        "    r2 = r2_score(actual, pred)\n",
        "    if verbose:\n",
        "        print(\"\\tRMSE Score is: {:.5%}\".format(rmse))\n",
        "        print(\"\\tR2 Square Score is: {:.5%}\".format(r2))\n",
        "        print(\"\\tMAE Score is: {:.5%}\".format(mae))\n",
        "    return {f'RMSE Score': rmse, f'R2_Squared': r2, f'MAE Score': mae}\n"
      ]
    },
    {
      "cell_type": "code",
      "execution_count": 12,
      "metadata": {
        "id": "xh7DzsRrrzLS"
      },
      "outputs": [],
      "source": [
        "# mlflow.autolog(log_input_examples=True, disable_for_unsupported_versions=True, silent=True)\n",
        "\n",
        "regressors = [\n",
        "    LinearRegression(),\n",
        "    DecisionTreeRegressor(),\n",
        "    RandomForestRegressor(max_depth=10,max_features=20,random_state=42),\n",
        "]\n"
      ]
    },
    {
      "cell_type": "code",
      "execution_count": 13,
      "metadata": {
        "id": "2r0w8tEJrzLS"
      },
      "outputs": [],
      "source": [
        "X_train, X_test, y_train, y_test = train_test_split(X_train, Y_train, test_size=0.2, random_state=42)\n",
        "X_train, X_val, y_train, y_val = train_test_split(X_train, y_train, test_size=0.2, random_state=42)\n",
        "\n"
      ]
    },
    {
      "cell_type": "code",
      "execution_count": 14,
      "metadata": {
        "colab": {
          "base_uri": "https://localhost:8080/"
        },
        "id": "7_nB_ERwrzLS",
        "outputId": "53ea7945-86c6-4115-debc-ba336c764caf"
      },
      "outputs": [
        {
          "data": {
            "text/plain": [
              "((651013,), (203442,), (162754,))"
            ]
          },
          "execution_count": 14,
          "metadata": {},
          "output_type": "execute_result"
        }
      ],
      "source": [
        "y_train.shape,y_test.shape,y_val.shape"
      ]
    },
    {
      "cell_type": "code",
      "execution_count": 15,
      "metadata": {
        "colab": {
          "base_uri": "https://localhost:8080/"
        },
        "id": "b_moRsXQrzLS",
        "outputId": "ab95cc8f-e1ed-43c5-f972-64f2c343d487"
      },
      "outputs": [
        {
          "data": {
            "text/plain": [
              "((651013, 25), (203442, 25), (162754, 25))"
            ]
          },
          "execution_count": 15,
          "metadata": {},
          "output_type": "execute_result"
        }
      ],
      "source": [
        "X_train.shape,X_test.shape,X_val.shape"
      ]
    },
    {
      "cell_type": "code",
      "execution_count": null,
      "metadata": {
        "colab": {
          "base_uri": "https://localhost:8080/"
        },
        "id": "AWAj7BTJrzLS",
        "outputId": "c8f18862-e0a7-43de-9195-447871a286b4"
      },
      "outputs": [
        {
          "name": "stdout",
          "output_type": "stream",
          "text": [
            "Regression algorithm: LinearRegression\n",
            "Train Values\n",
            "\tRMSE Score is: 249205.68809%\n",
            "\tR2 Square Score is: 58.37729%\n",
            "\tMAE Score is: 175004.45377%\n",
            "Test Values\n",
            "\tRMSE Score is: 248099.32291%\n",
            "\tR2 Square Score is: 58.37844%\n",
            "\tMAE Score is: 174462.13045%\n",
            "\n",
            "---------------------------\n",
            "Regression algorithm: DecisionTreeRegressor\n",
            "Train Values\n",
            "\tRMSE Score is: 118736.02387%\n",
            "\tR2 Square Score is: 90.55114%\n",
            "\tMAE Score is: 66355.67421%\n",
            "Test Values\n",
            "\tRMSE Score is: 119444.61430%\n",
            "\tR2 Square Score is: 90.35282%\n",
            "\tMAE Score is: 66505.61094%\n",
            "\n",
            "---------------------------\n",
            "Regression algorithm: RandomForestRegressor\n",
            "Train Values\n",
            "\tRMSE Score is: 216454.98924%\n",
            "\tR2 Square Score is: 68.59856%\n",
            "\tMAE Score is: 145213.17871%\n",
            "Test Values\n",
            "\tRMSE Score is: 215240.23794%\n",
            "\tR2 Square Score is: 68.67334%\n",
            "\tMAE Score is: 144551.53420%\n",
            "\n",
            "---------------------------\n"
          ]
        }
      ],
      "source": [
        "\n",
        "# Fit the pipeline with the data\n",
        "\n",
        "with mlflow.start_run() as run:\n",
        "for r in regressors:\n",
        "    pipe = Pipeline(steps = [\n",
        "        ('preprocessor', preprocessor),\n",
        "        ('regressor', r)\n",
        "    ])\n",
        "    pipe = pipe.fit(X_train, y_train)\n",
        "\n",
        "    train_score = pipe.score(X_train, y_train)\n",
        "    valid_score = pipe.score(X_val, y_val)\n",
        "    print(f\"Regression algorithm: {pipe.named_steps['regressor'].__class__.__name__}\")\n",
        "    print((\"Train Values\"))\n",
        "    valid_metrics = eval_metrics(y_val, pipe.predict(X_val))\n",
        "    print(\"Test Values\")\n",
        "    test_score = pipe.score(X_test, y_test)\n",
        "    test_metrics = eval_metrics(y_test, pipe.predict(X_test))\n",
        "    print(\"\\n---------------------------\")\n",
        "\n",
        "    mlflow.log_metric(f\"{pipe.named_steps['regressor'].__class__.__name__} Valid Score\", valid_score)\n",
        "    mlflow.log_metrics(valid_metrics)\n",
        "    mlflow.log_metric(f\"{pipe.named_steps['regressor'].__class__.__name__} Test Score\", test_score)\n",
        "    mlflow.log_metrics(test_metrics)"
      ]
    },
    {
      "cell_type": "markdown",
      "metadata": {
        "id": "vaBOZd4UrzLT"
      },
      "source": [
        "## HyperParameter Tuning\n"
      ]
    },
    {
      "cell_type": "code",
      "execution_count": null,
      "metadata": {
        "id": "B0iiDVigrzLU"
      },
      "outputs": [],
      "source": [
        "from sklearn.model_selection import GridSearchCV\n",
        "# Create the parameter grid based on the results of random search \n",
        "param_grid = {\n",
        "    'bootstrap': [True],\n",
        "    'max_depth': [80, 90, 100, 110],\n",
        "    'max_features': [2, 3],\n",
        "    'min_samples_leaf': [3, 4, 5],\n",
        "    'min_samples_split': [8, 10, 12],\n",
        "    'n_estimators': [100, 200, 300, 1000]\n",
        "}\n",
        "# Create a based model\n",
        "rf = RandomForestRegressor()\n",
        "# Instantiate the grid search model\n",
        "grid_search = GridSearchCV(estimator = rf, param_grid = param_grid, \n",
        "                          cv = 3, n_jobs = -1, verbose = 2)"
      ]
    },
    {
      "cell_type": "code",
      "execution_count": 19,
      "metadata": {
        "id": "PUWIJhzlzgal"
      },
      "outputs": [],
      "source": [
        "X_train_trans = preprocessor.fit_transform(X_train)\n",
        "X_test_trans = preprocessor.fit_transform(X_test)\n",
        "X_val_trans = preprocessor.fit_transform(X_val)"
      ]
    },
    {
      "cell_type": "code",
      "execution_count": null,
      "metadata": {
        "colab": {
          "base_uri": "https://localhost:8080/"
        },
        "id": "f_-uI5UU79YX",
        "outputId": "28a9f36e-ae34-43e3-8172-cfc34d95e4aa"
      },
      "outputs": [
        {
          "data": {
            "text/plain": [
              "(50000, 41)"
            ]
          },
          "execution_count": 39,
          "metadata": {},
          "output_type": "execute_result"
        }
      ],
      "source": [
        "X_train_trans[:50000].shape"
      ]
    },
    {
      "cell_type": "code",
      "execution_count": null,
      "metadata": {
        "colab": {
          "base_uri": "https://localhost:8080/"
        },
        "id": "36kHaF4MrzLU",
        "outputId": "0145f351-7f75-45e1-eba4-d2d947aea157"
      },
      "outputs": [
        {
          "name": "stdout",
          "output_type": "stream",
          "text": [
            "Fitting 3 folds for each of 288 candidates, totalling 864 fits\n"
          ]
        },
        {
          "data": {
            "text/plain": [
              "GridSearchCV(cv=3, estimator=RandomForestRegressor(), n_jobs=-1,\n",
              "             param_grid={'bootstrap': [True], 'max_depth': [80, 90, 100, 110],\n",
              "                         'max_features': [2, 3], 'min_samples_leaf': [3, 4, 5],\n",
              "                         'min_samples_split': [8, 10, 12],\n",
              "                         'n_estimators': [100, 200, 300, 1000]},\n",
              "             verbose=2)"
            ]
          },
          "execution_count": 40,
          "metadata": {},
          "output_type": "execute_result"
        }
      ],
      "source": [
        "grid_search.fit(X_train_trans[:5000], y_train[:5000])"
      ]
    },
    {
      "cell_type": "code",
      "execution_count": 41,
      "metadata": {
        "colab": {
          "base_uri": "https://localhost:8080/"
        },
        "id": "5eWqghYhrzLU",
        "outputId": "18e13557-9258-4b7c-a8cc-55d673206e00"
      },
      "outputs": [
        {
          "data": {
            "text/plain": [
              "{'bootstrap': True,\n",
              " 'max_depth': 100,\n",
              " 'max_features': 3,\n",
              " 'min_samples_leaf': 3,\n",
              " 'min_samples_split': 8,\n",
              " 'n_estimators': 1000}"
            ]
          },
          "execution_count": 41,
          "metadata": {},
          "output_type": "execute_result"
        }
      ],
      "source": [
        "grid_search.best_params_"
      ]
    },
    {
      "cell_type": "code",
      "execution_count": 44,
      "metadata": {
        "id": "VTZlGKGmrzLU"
      },
      "outputs": [],
      "source": [
        "best_grid = grid_search.best_estimator_\n"
      ]
    },
    {
      "cell_type": "code",
      "execution_count": 49,
      "metadata": {
        "colab": {
          "base_uri": "https://localhost:8080/"
        },
        "id": "zQsclumBrzLU",
        "outputId": "5bfe5a9a-4fca-436e-d6d9-9fb1fda3358d"
      },
      "outputs": [
        {
          "data": {
            "text/plain": [
              "array([6812.49937351, 6139.23327166, 7747.05383121, 8087.33614263,\n",
              "        850.97630024, 6043.45926552, 4044.08547344, 8122.45602519,\n",
              "       5769.16250341,  444.16681961])"
            ]
          },
          "execution_count": 49,
          "metadata": {},
          "output_type": "execute_result"
        }
      ],
      "source": [
        "best_grid.predict(X_train_trans[:10])"
      ]
    },
    {
      "cell_type": "code",
      "execution_count": 48,
      "metadata": {
        "colab": {
          "base_uri": "https://localhost:8080/"
        },
        "id": "rV8jqSgerzLV",
        "outputId": "2bc04267-717e-48cf-bf86-9a869f808520"
      },
      "outputs": [
        {
          "data": {
            "text/plain": [
              "523458    5439\n",
              "794695    4792\n",
              "118156    6280\n",
              "167458    5826\n",
              "605432       0\n",
              "913621    6401\n",
              "965553    2416\n",
              "203087    9513\n",
              "296559    6398\n",
              "344698       0\n",
              "Name: Sales, dtype: int64"
            ]
          },
          "execution_count": 48,
          "metadata": {},
          "output_type": "execute_result"
        }
      ],
      "source": [
        "y_train[:10]"
      ]
    },
    {
      "cell_type": "code",
      "execution_count": 16,
      "metadata": {
        "id": "1REpPHm6rzLV"
      },
      "outputs": [],
      "source": [
        "from datetime import datetime\n",
        "def generate_model_name() -> str:\n",
        "    now = datetime.now()\n",
        "    dt_string = now.strftime(\"%d-%m-%Y_%H:%M:%S_\")\n",
        "    return dt_string"
      ]
    },
    {
      "cell_type": "code",
      "execution_count": 17,
      "metadata": {
        "id": "9Hkg-yK3BRNp"
      },
      "outputs": [],
      "source": [
        "from pickle import dump \n",
        "def save_model(model) -> None:\n",
        "    try:\n",
        "        file_name = generate_model_name() +'.pkl'\n",
        "        with open(file_name, 'wb') as handle:\n",
        "            dump(model, handle)\n",
        "    except Exception as e:\n",
        "        print('Error while producing model')"
      ]
    },
    {
      "cell_type": "code",
      "execution_count": 64,
      "metadata": {
        "id": "jIv2T_wVrzLV"
      },
      "outputs": [],
      "source": [
        "save_model(grid_search.best_estimator_)"
      ]
    },
    {
      "cell_type": "markdown",
      "metadata": {},
      "source": [
        "## Random Forest with Best Parameters"
      ]
    },
    {
      "cell_type": "code",
      "execution_count": 23,
      "metadata": {},
      "outputs": [],
      "source": [
        "rf = RandomForestRegressor(bootstrap=True,max_depth=100,random_state=42,max_features=3,min_samples_leaf=3,min_samples_split=8,n_estimators=1000)"
      ]
    },
    {
      "cell_type": "code",
      "execution_count": 24,
      "metadata": {},
      "outputs": [],
      "source": [
        "mlflow.set_experiment('tuned_rf_regressor')\n",
        "\n",
        "with mlflow.start_run() as run:\n",
        "    rf.fit(X_train_trans, y_train)\n",
        "\n",
        "    train_score = pipe.score(X_train_trans, y_train)\n",
        "    valid_score = pipe.score(X_val_trans, y_val)\n",
        "    print(f\"Regression algorithm: {pipe.named_steps['regressor'].__class__.__name__}\")\n",
        "    print((\"Train Values\"))\n",
        "    valid_metrics = eval_metrics(y_val, pipe.predict(X_val_trans))\n",
        "    print(\"Test Values\")\n",
        "    test_score = pipe.score(X_test_trans, y_test)\n",
        "    test_metrics = eval_metrics(y_test, pipe.predict(X_test_trans))\n",
        "    print(\"\\n---------------------------\")\n",
        "\n",
        "    mlflow.log_metric(f\"{pipe.named_steps['regressor'].__class__.__name__} Valid Score\", valid_score)\n",
        "    mlflow.log_metrics(valid_metrics)\n",
        "    mlflow.log_metric(f\"{pipe.named_steps['regressor'].__class__.__name__} Test Score\", test_score)\n",
        "    mlflow.log_metrics(test_metrics)"
      ]
    },
    {
      "cell_type": "code",
      "execution_count": null,
      "metadata": {},
      "outputs": [],
      "source": [
        "save_model(rf)\n"
      ]
    }
  ],
  "metadata": {
    "colab": {
      "collapsed_sections": [],
      "provenance": []
    },
    "kernelspec": {
      "display_name": "Python 3.7.13 ('issue')",
      "language": "python",
      "name": "python3"
    },
    "language_info": {
      "codemirror_mode": {
        "name": "ipython",
        "version": 3
      },
      "file_extension": ".py",
      "mimetype": "text/x-python",
      "name": "python",
      "nbconvert_exporter": "python",
      "pygments_lexer": "ipython3",
      "version": "3.7.13"
    },
    "vscode": {
      "interpreter": {
        "hash": "6f5af68d51c57781d0b00fa1a5ec382e98a5ea5ae87a311f64851d69a9e898f0"
      }
    }
  },
  "nbformat": 4,
  "nbformat_minor": 0
}
