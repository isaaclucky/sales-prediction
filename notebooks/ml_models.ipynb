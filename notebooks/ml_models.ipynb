{
 "cells": [
  {
   "cell_type": "code",
   "execution_count": 3,
   "metadata": {},
   "outputs": [],
   "source": [
    "import pandas as pd\n",
    "import numpy as np\n",
    "import io\n",
    "import dvc.api\n",
    "# from pandas_profiling import ProfileReport\n",
    "import matplotlib.pyplot as plt\n",
    "import seaborn as sns\n",
    "import sys, os\n",
    "\n",
    "import warnings; warnings.simplefilter('ignore')"
   ]
  },
  {
   "cell_type": "code",
   "execution_count": 1,
   "metadata": {},
   "outputs": [],
   "source": [
    "from sklearn.pipeline import make_pipeline\n",
    "from sklearn.compose import ColumnTransformer\n",
    "from sklearn.preprocessing import StandardScaler, PowerTransformer, OneHotEncoder\n",
    "from sklearn.impute import SimpleImputer\n",
    "from sklearn.model_selection import train_test_split\n",
    "from sklearn.linear_model import LinearRegression\n",
    "from sklearn.ensemble import RandomForestRegressor\n",
    "from sklearn.tree import DecisionTreeRegressor\n",
    "\n",
    "from sklearn.pipeline import Pipeline\n",
    "from sklearn.metrics import mean_squared_error\n",
    "\n"
   ]
  },
  {
   "cell_type": "code",
   "execution_count": 4,
   "metadata": {},
   "outputs": [],
   "source": [
    "path=\"data/df_test.csv\"\n",
    "repo='https://github.com/isaaclucky/sales-prediction'\n",
    "version=\"V1.0\"\n",
    "\n",
    "data_url = dvc.api.read(path=path,\n",
    "                    repo=repo,\n",
    "                    rev=version\n",
    "                    )"
   ]
  },
  {
   "cell_type": "code",
   "execution_count": 69,
   "metadata": {},
   "outputs": [],
   "source": [
    "df_train = pd.read_csv('../data/df_train_prep.csv')\n",
    "df_test = pd.read_csv('../data/df_test_prep.csv')"
   ]
  },
  {
   "cell_type": "code",
   "execution_count": 77,
   "metadata": {},
   "outputs": [],
   "source": [
    "df_train.StateHoliday = df_train.StateHoliday.astype('string')\n",
    "df_test.StateHoliday = df_test.StateHoliday.astype('string')"
   ]
  },
  {
   "cell_type": "code",
   "execution_count": 78,
   "metadata": {},
   "outputs": [],
   "source": [
    "X_train = df_train.drop(columns=['Sales','Customers','Date','Unnamed: 0'],axis=1).copy(deep=True)\n",
    "Y_train = df_train['Sales'].copy(deep=True)\n",
    "X_test =df_test.drop(columns=['Unnamed: 0'],axis=1).copy(deep=True)"
   ]
  },
  {
   "cell_type": "code",
   "execution_count": 79,
   "metadata": {},
   "outputs": [],
   "source": [
    "cont_cols = ['DayOfWeek', 'Until_Holiday', 'Since_Holiday','CompetitionOpenMonthDuration','CompetitionDistance','PromoOpenMonthDuration']\n",
    "num_cols = list(X_train.select_dtypes(include = 'number').columns)\n",
    "cat_cols = list(set(X_train.columns)-set(num_cols))\n",
    "disc_cols = list(set(num_cols) - set(cont_cols))\n"
   ]
  },
  {
   "cell_type": "code",
   "execution_count": 80,
   "metadata": {},
   "outputs": [],
   "source": [
    "cont_pipeline = make_pipeline(\n",
    "    SimpleImputer(strategy = 'median'),\n",
    "    PowerTransformer(method = 'yeo-johnson', standardize = False),\n",
    "    StandardScaler()\n",
    ")\n",
    "disc_pipeline = make_pipeline(\n",
    "    SimpleImputer(strategy = 'constant', fill_value = -1),\n",
    "    StandardScaler()\n",
    ")\n",
    "cat_pipeline = make_pipeline(\n",
    "    SimpleImputer(strategy = 'constant', fill_value = 'unknown'),\n",
    "    OneHotEncoder()\n",
    ")\n",
    "\n",
    "\n",
    "preprocessor = ColumnTransformer(\n",
    "    transformers = [\n",
    "        ('continuous', cont_pipeline, cont_cols),\n",
    "        ('discrete', disc_pipeline, disc_cols),\n",
    "        ('categorical', cat_pipeline, cat_cols)\n",
    "    ]\n",
    ")\n",
    "\n",
    "\n"
   ]
  },
  {
   "cell_type": "code",
   "execution_count": 82,
   "metadata": {},
   "outputs": [
    {
     "data": {
      "text/plain": [
       "ColumnTransformer(transformers=[('continuous',\n",
       "                                 Pipeline(steps=[('simpleimputer',\n",
       "                                                  SimpleImputer(strategy='median')),\n",
       "                                                 ('powertransformer',\n",
       "                                                  PowerTransformer(standardize=False)),\n",
       "                                                 ('standardscaler',\n",
       "                                                  StandardScaler())]),\n",
       "                                 ['DayOfWeek', 'Until_Holiday', 'Since_Holiday',\n",
       "                                  'CompetitionOpenMonthDuration',\n",
       "                                  'CompetitionDistance',\n",
       "                                  'PromoOpenMonthDuration']),\n",
       "                                ('discrete',\n",
       "                                 Pipel...\n",
       "                                 ['Quarter', 'SchoolHoliday', 'Store',\n",
       "                                  'IsWeekDay', 'Promo', 'Month', 'DayOfYear',\n",
       "                                  'Open', 'Year', 'Promo2', 'WeekOfYear',\n",
       "                                  'Week', 'Day']),\n",
       "                                ('categorical',\n",
       "                                 Pipeline(steps=[('simpleimputer',\n",
       "                                                  SimpleImputer(fill_value='unknown',\n",
       "                                                                strategy='constant')),\n",
       "                                                 ('onehotencoder',\n",
       "                                                  OneHotEncoder())]),\n",
       "                                 ['Season', 'StateHoliday', 'StoreType',\n",
       "                                  'Assortment', 'PromoInterval',\n",
       "                                  'Month_Status'])])"
      ]
     },
     "execution_count": 82,
     "metadata": {},
     "output_type": "execute_result"
    }
   ],
   "source": [
    "preprocessor.fit(X_train)\n",
    "preprocessor.fit(X_test)\n"
   ]
  },
  {
   "cell_type": "code",
   "execution_count": 83,
   "metadata": {},
   "outputs": [],
   "source": [
    "def eval_models(pipeline, X,Y, verbose=True):\n",
    "    \"\"\"\n",
    "    Quickly trains modeling pipeline and evaluates on test data. Returns original model, training RMSE, and testing\n",
    "    RMSE as a tuple.\n",
    "    \"\"\"\n",
    "    \n",
    "    X_train, X_test, y_train, y_test = train_test_split(\n",
    "    X, Y, test_size=0.33, random_state=42)\n",
    "    \n",
    "    pipeline.fit(X_train, y_train)\n",
    "    y_train_pred = pipeline.predict(X_train)\n",
    "    y_test_pred = pipeline.predict(X_test)\n",
    "    \n",
    "    train_score = np.sqrt(mean_squared_error(y_train, y_train_pred))\n",
    "    test_score = np.sqrt(mean_squared_error(y_test, y_test_pred))\n",
    "    \n",
    "    if verbose:\n",
    "        print(f\"Regression algorithm: {pipeline.named_steps['regressor'].__class__.__name__}\")\n",
    "        print(f\"Train RMSE: {train_score}\")\n",
    "        print(f\"Test RMSE: {test_score}\")\n",
    "    \n",
    "    return pipeline.named_steps['regressor'], train_score, test_score\n",
    "\n"
   ]
  },
  {
   "cell_type": "code",
   "execution_count": null,
   "metadata": {},
   "outputs": [],
   "source": [
    "regressors = [\n",
    "    LinearRegression(),\n",
    "    DecisionTreeRegressor(),\n",
    "    RandomForestRegressor(n_estimators=200,max_features=20),\n",
    "]\n",
    "\n",
    "for r in regressors:\n",
    "    pipe = Pipeline(steps = [\n",
    "        ('preprocessor', preprocessor),\n",
    "        ('regressor', r)\n",
    "    ])\n",
    "\n",
    "    eval_models(pipe, X_train,Y_train)\n",
    "    print()"
   ]
  }
 ],
 "metadata": {
  "kernelspec": {
   "display_name": "Python 3.7.13 ('issue')",
   "language": "python",
   "name": "python3"
  },
  "language_info": {
   "codemirror_mode": {
    "name": "ipython",
    "version": 3
   },
   "file_extension": ".py",
   "mimetype": "text/x-python",
   "name": "python",
   "nbconvert_exporter": "python",
   "pygments_lexer": "ipython3",
   "version": "3.7.13"
  },
  "orig_nbformat": 4,
  "vscode": {
   "interpreter": {
    "hash": "6f5af68d51c57781d0b00fa1a5ec382e98a5ea5ae87a311f64851d69a9e898f0"
   }
  }
 },
 "nbformat": 4,
 "nbformat_minor": 2
}
