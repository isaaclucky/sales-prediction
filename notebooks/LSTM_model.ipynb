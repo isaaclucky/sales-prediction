{
  "cells": [
    {
      "cell_type": "code",
      "execution_count": null,
      "metadata": {
        "id": "WMU_JwG1tcFE"
      },
      "outputs": [],
      "source": [
        "import pandas as pd\n",
        "import numpy as np\n",
        "import io\n",
        "# from pandas_profiling import ProfileReport\n",
        "import matplotlib.pyplot as plt\n",
        "import seaborn as sns\n",
        "import sys, os\n",
        "\n",
        "import warnings; warnings.simplefilter('ignore')"
      ]
    },
    {
      "cell_type": "code",
      "execution_count": null,
      "metadata": {
        "id": "4zTH6ss25TDO"
      },
      "outputs": [],
      "source": [
        "from sklearn.pipeline import make_pipeline\n",
        "from sklearn.compose import ColumnTransformer\n",
        "from sklearn.preprocessing import StandardScaler, PowerTransformer, OneHotEncoder\n",
        "from sklearn.impute import SimpleImputer\n",
        "from sklearn.model_selection import train_test_split\n",
        "from sklearn.linear_model import LinearRegression\n",
        "from sklearn.ensemble import RandomForestRegressor\n",
        "from sklearn.tree import DecisionTreeRegressor\n",
        "import sklearn\n",
        "from sklearn.pipeline import Pipeline\n",
        "from sklearn.metrics import mean_squared_error, mean_absolute_error, r2_score\n",
        "from sklearn.preprocessing import StandardScaler\n",
        "\n",
        "import keras \n",
        "# import mlflow \n",
        "# import mlflow.sklearn"
      ]
    },
    {
      "cell_type": "code",
      "execution_count": null,
      "metadata": {
        "id": "tNl4t7EMurGM"
      },
      "outputs": [],
      "source": [
        "# !pip install dvc[gdrive]\n"
      ]
    },
    {
      "cell_type": "code",
      "execution_count": null,
      "metadata": {
        "id": "Y-QLa7bN5Vtp"
      },
      "outputs": [],
      "source": [
        "import dvc.api\n"
      ]
    },
    {
      "cell_type": "code",
      "execution_count": 3,
      "metadata": {
        "id": "kGg8YSB-uyup"
      },
      "outputs": [],
      "source": [
        "# !git clone https://github.com/isaaclucky/sales-prediction.git \n"
      ]
    },
    {
      "cell_type": "code",
      "execution_count": 2,
      "metadata": {
        "id": "6bmGP9rSu0m6"
      },
      "outputs": [],
      "source": [
        "# cd sales-prediction/\n"
      ]
    },
    {
      "cell_type": "code",
      "execution_count": 1,
      "metadata": {
        "id": "bzNmrSI4u9dE"
      },
      "outputs": [],
      "source": [
        "# !dvc pull \n"
      ]
    },
    {
      "cell_type": "code",
      "execution_count": null,
      "metadata": {
        "id": "aYpxiGcD4_Lw"
      },
      "outputs": [],
      "source": [
        "df_train = pd.read_csv('data/df_train_prep.csv')\n",
        "df_test = pd.read_csv('data/df_test_prep.csv')"
      ]
    },
    {
      "cell_type": "code",
      "execution_count": null,
      "metadata": {
        "id": "4IAe3Yyq4_Og"
      },
      "outputs": [],
      "source": [
        "df_train.StateHoliday = df_train.StateHoliday.astype('string')\n",
        "df_test.StateHoliday = df_test.StateHoliday.astype('string')"
      ]
    },
    {
      "cell_type": "code",
      "execution_count": null,
      "metadata": {
        "id": "z5c0zbJI4_RF"
      },
      "outputs": [],
      "source": [
        "X_train = df_train.drop(columns=['Sales','Customers','Date','Unnamed: 0'],axis=1).copy(deep=True)\n",
        "Y_train = df_train['Sales'].copy(deep=True)\n",
        "X_test =df_test.drop(columns=['Unnamed: 0'],axis=1).copy(deep=True)"
      ]
    },
    {
      "cell_type": "code",
      "execution_count": null,
      "metadata": {
        "id": "leD_HnI44_UI"
      },
      "outputs": [],
      "source": [
        "cont_cols = ['DayOfWeek', 'Until_Holiday', 'Since_Holiday','CompetitionOpenMonthDuration','CompetitionDistance','PromoOpenMonthDuration']\n",
        "num_cols = list(X_train.select_dtypes(include = 'number').columns)\n",
        "cat_cols = list(set(X_train.columns)-set(num_cols))\n",
        "disc_cols = list(set(num_cols) - set(cont_cols))\n"
      ]
    },
    {
      "cell_type": "code",
      "execution_count": null,
      "metadata": {
        "id": "xLGTgLgi4_XO"
      },
      "outputs": [],
      "source": [
        "cont_pipeline = make_pipeline(\n",
        "    SimpleImputer(strategy = 'median'),\n",
        "    PowerTransformer(method = 'yeo-johnson', standardize = False),\n",
        "    StandardScaler()\n",
        ")\n",
        "disc_pipeline = make_pipeline(\n",
        "    SimpleImputer(strategy = 'constant', fill_value = -1),\n",
        "    StandardScaler()\n",
        ")\n",
        "cat_pipeline = make_pipeline(\n",
        "    SimpleImputer(strategy = 'constant', fill_value = 'unknown'),\n",
        "    OneHotEncoder()\n",
        ")\n",
        "\n",
        "\n",
        "preprocessor = ColumnTransformer(\n",
        "    transformers = [\n",
        "        ('continuous', cont_pipeline, cont_cols),\n",
        "        ('discrete', disc_pipeline, disc_cols),\n",
        "        ('categorical', cat_pipeline, cat_cols)\n",
        "    ]\n",
        ")\n",
        "\n",
        "\n"
      ]
    },
    {
      "cell_type": "code",
      "execution_count": null,
      "metadata": {
        "id": "UeLGnl8Yu_Xw"
      },
      "outputs": [],
      "source": [
        "X_train_trans = preprocessor.fit_transform(X_train)\n",
        "X_test_trans = preprocessor.fit_transform(X_test)"
      ]
    },
    {
      "cell_type": "code",
      "execution_count": null,
      "metadata": {
        "colab": {
          "base_uri": "https://localhost:8080/"
        },
        "id": "LfuFVlhnFpYg",
        "outputId": "f1986947-9955-4db9-f03b-fa1f9e6a9e5b"
      },
      "outputs": [
        {
          "data": {
            "text/plain": [
              "['continuous__DayOfWeek',\n",
              " 'continuous__Until_Holiday',\n",
              " 'continuous__Since_Holiday',\n",
              " 'continuous__CompetitionOpenMonthDuration',\n",
              " 'continuous__CompetitionDistance',\n",
              " 'continuous__PromoOpenMonthDuration',\n",
              " 'discrete__Year',\n",
              " 'discrete__Open',\n",
              " 'discrete__Day',\n",
              " 'discrete__Week',\n",
              " 'discrete__Month',\n",
              " 'discrete__Quarter',\n",
              " 'discrete__DayOfYear',\n",
              " 'discrete__Store',\n",
              " 'discrete__Promo',\n",
              " 'discrete__Promo2',\n",
              " 'discrete__SchoolHoliday',\n",
              " 'discrete__WeekOfYear',\n",
              " 'discrete__IsWeekDay',\n",
              " 'onehotencoder__x0_Beginning',\n",
              " 'onehotencoder__x0_End',\n",
              " 'onehotencoder__x0_Mid',\n",
              " 'onehotencoder__x1_Fall',\n",
              " 'onehotencoder__x1_Summer',\n",
              " 'onehotencoder__x2_0',\n",
              " 'onehotencoder__x2_a',\n",
              " 'onehotencoder__x3_0,0,0,0',\n",
              " 'onehotencoder__x3_Feb,May,Aug,Nov',\n",
              " 'onehotencoder__x3_Jan,Apr,Jul,Oct',\n",
              " 'onehotencoder__x3_Mar,Jun,Sept,Dec',\n",
              " 'onehotencoder__x4_a',\n",
              " 'onehotencoder__x4_b',\n",
              " 'onehotencoder__x4_c',\n",
              " 'onehotencoder__x4_d',\n",
              " 'onehotencoder__x5_a',\n",
              " 'onehotencoder__x5_b',\n",
              " 'onehotencoder__x5_c']"
            ]
          },
          "execution_count": 39,
          "metadata": {},
          "output_type": "execute_result"
        }
      ],
      "source": [
        "# get_feature_names(preprocessor)"
      ]
    },
    {
      "cell_type": "code",
      "execution_count": null,
      "metadata": {
        "colab": {
          "base_uri": "https://localhost:8080/"
        },
        "id": "Wi0thq3YF6IV",
        "outputId": "3b4e7ef3-9089-469d-d5e2-53c298f19003"
      },
      "outputs": [
        {
          "data": {
            "text/plain": [
              "(1017209, 25)"
            ]
          },
          "execution_count": 49,
          "metadata": {},
          "output_type": "execute_result"
        }
      ],
      "source": [
        "X_train.shape"
      ]
    },
    {
      "cell_type": "code",
      "execution_count": null,
      "metadata": {
        "id": "tf4qmgVsWaYZ"
      },
      "outputs": [],
      "source": [
        "import tensorflow as tf\n",
        "from tensorflow.keras.models import Sequential\n",
        "from tensorflow.keras.layers import Dense\n",
        "from tensorflow.keras.layers import LSTM\n",
        "from tensorflow.keras.layers import Dropout\n",
        "from tensorflow.keras.layers import TimeDistributed\n"
      ]
    },
    {
      "cell_type": "code",
      "execution_count": null,
      "metadata": {
        "id": "-n9675hSZMvu"
      },
      "outputs": [],
      "source": [
        "train_size = int(len(df_train) * 0.70) \n",
        "test_size = len(df_train) - train_size \n",
        "train, test = X_train_trans[0:train_size], X_train_trans[train_size:]\n",
        "y_train, y_test = Y_train[0:train_size],Y_train[train_size:]"
      ]
    },
    {
      "cell_type": "code",
      "execution_count": null,
      "metadata": {
        "id": "l09do5sZWNcf"
      },
      "outputs": [],
      "source": [
        "# Initialize LSTM model\n",
        "model = Sequential()\n",
        "model.add(LSTM(units=128, return_sequences=True, input_shape=(train.shape[1],1)))\n",
        "model.add(Dropout(0.2))\n",
        "model.add(LSTM(units=128,return_sequences=True))\n",
        "model.add(Dropout(0.2))\n",
        "model.add(Dense(1))\n",
        "\n",
        "model.compile(optimizer='adam', loss='mean_squared_error', metrics=['mse', 'mae'])"
      ]
    },
    {
      "cell_type": "code",
      "execution_count": null,
      "metadata": {
        "colab": {
          "base_uri": "https://localhost:8080/"
        },
        "id": "gMYYNcFceA6j",
        "outputId": "718e7c9e-8695-49da-eab3-5dc1b8d7744d"
      },
      "outputs": [
        {
          "output_type": "stream",
          "name": "stdout",
          "text": [
            "Model: \"sequential\"\n",
            "_________________________________________________________________\n",
            " Layer (type)                Output Shape              Param #   \n",
            "=================================================================\n",
            " lstm (LSTM)                 (None, 41, 128)           66560     \n",
            "                                                                 \n",
            " dropout (Dropout)           (None, 41, 128)           0         \n",
            "                                                                 \n",
            " lstm_1 (LSTM)               (None, 41, 128)           131584    \n",
            "                                                                 \n",
            " dropout_1 (Dropout)         (None, 41, 128)           0         \n",
            "                                                                 \n",
            " dense (Dense)               (None, 41, 1)             129       \n",
            "                                                                 \n",
            "=================================================================\n",
            "Total params: 198,273\n",
            "Trainable params: 198,273\n",
            "Non-trainable params: 0\n",
            "_________________________________________________________________\n"
          ]
        }
      ],
      "source": [
        "model.summary()"
      ]
    },
    {
      "cell_type": "code",
      "execution_count": null,
      "metadata": {
        "colab": {
          "base_uri": "https://localhost:8080/"
        },
        "id": "-W8nEWg-oe-j",
        "outputId": "093f62a8-a344-44d6-a597-fafa38f72d4c"
      },
      "outputs": [
        {
          "output_type": "execute_result",
          "data": {
            "text/plain": [
              "array([[5263, 6064, 8314, ..., 6652, 3842, 6143]])"
            ]
          },
          "metadata": {},
          "execution_count": 19
        }
      ],
      "source": [
        "y_train.values.reshape(1,-1)"
      ]
    },
    {
      "cell_type": "code",
      "execution_count": null,
      "metadata": {
        "id": "AMzyo0vAkINe"
      },
      "outputs": [],
      "source": [
        "scaler_a = StandardScaler()\n",
        "scaler_b = StandardScaler()\n",
        "y_train_scaled = scaler_a.fit_transform(y_train.values.reshape(1,-1) )\n",
        "y_test_scaled = scaler_a.fit_transform(y_test.values.reshape(1,-1) )\n",
        "# y_test = scaler_b.fit_transform(y_test[:].reshape(1,-1))"
      ]
    },
    {
      "cell_type": "code",
      "execution_count": null,
      "metadata": {
        "id": "w2DhTPAPo8GU"
      },
      "outputs": [],
      "source": [
        "y_train_scaled = y_train_scaled.reshape(-1,1)\n",
        "y_test_scaled = y_test_scaled.reshape(-1,1)"
      ]
    },
    {
      "cell_type": "code",
      "execution_count": null,
      "metadata": {
        "colab": {
          "background_save": true,
          "base_uri": "https://localhost:8080/"
        },
        "id": "TdmeBkikWikK",
        "outputId": "a0ae2150-50a2-493c-9932-6ee0c1acf282"
      },
      "outputs": [
        {
          "name": "stdout",
          "output_type": "stream",
          "text": [
            "Epoch 1/30\n",
            "14241/14241 [==============================] - 179s 12ms/step - loss: 1.9338e-06 - mse: 1.9338e-06 - mae: 3.8179e-04 - val_loss: 5.0343e-13 - val_mse: 5.0343e-13 - val_mae: 6.8006e-07\n",
            "Epoch 2/30\n",
            "14241/14241 [==============================] - 158s 11ms/step - loss: 2.1110e-09 - mse: 2.1110e-09 - mae: 1.6447e-05 - val_loss: 2.1697e-13 - val_mse: 2.1697e-13 - val_mae: 4.6499e-07\n",
            "Epoch 3/30\n",
            "14241/14241 [==============================] - 156s 11ms/step - loss: 7.4883e-10 - mse: 7.4883e-10 - mae: 9.9213e-06 - val_loss: 1.4955e-16 - val_mse: 1.4955e-16 - val_mae: 1.2057e-08\n",
            "Epoch 4/30\n",
            "14241/14241 [==============================] - 158s 11ms/step - loss: 7.6605e-10 - mse: 7.6605e-10 - mae: 9.4177e-06 - val_loss: 9.4236e-10 - val_mse: 9.4236e-10 - val_mae: 3.0697e-05\n",
            "Epoch 5/30\n",
            "14241/14241 [==============================] - 156s 11ms/step - loss: 7.5347e-10 - mse: 7.5347e-10 - mae: 9.0702e-06 - val_loss: 4.5353e-17 - val_mse: 4.5353e-17 - val_mae: 6.7255e-09\n",
            "Epoch 6/30\n",
            "14241/14241 [==============================] - 156s 11ms/step - loss: 7.6457e-10 - mse: 7.6457e-10 - mae: 9.2056e-06 - val_loss: 2.7978e-14 - val_mse: 2.7978e-14 - val_mae: 1.6726e-07\n",
            "Epoch 7/30\n",
            "14241/14241 [==============================] - 155s 11ms/step - loss: 7.6377e-10 - mse: 7.6377e-10 - mae: 8.9721e-06 - val_loss: 3.4463e-17 - val_mse: 3.4463e-17 - val_mae: 5.8685e-09\n",
            "Epoch 8/30\n",
            "14241/14241 [==============================] - 156s 11ms/step - loss: 7.6397e-10 - mse: 7.6397e-10 - mae: 9.1004e-06 - val_loss: 1.8585e-17 - val_mse: 1.8585e-17 - val_mae: 4.2967e-09\n",
            "Epoch 9/30\n",
            "14241/14241 [==============================] - 158s 11ms/step - loss: 7.5851e-10 - mse: 7.5851e-10 - mae: 8.8266e-06 - val_loss: 1.5942e-18 - val_mse: 1.5942e-18 - val_mae: 1.2600e-09\n",
            "Epoch 10/30\n",
            "14241/14241 [==============================] - 160s 11ms/step - loss: 7.7281e-10 - mse: 7.7281e-10 - mae: 9.0215e-06 - val_loss: 5.2872e-14 - val_mse: 5.2872e-14 - val_mae: 2.2993e-07\n",
            "Epoch 11/30\n",
            "14241/14241 [==============================] - 158s 11ms/step - loss: 7.6582e-10 - mse: 7.6582e-10 - mae: 8.9860e-06 - val_loss: 4.6555e-12 - val_mse: 4.6555e-12 - val_mae: 2.1576e-06\n",
            "Epoch 12/30\n",
            "14241/14241 [==============================] - 155s 11ms/step - loss: 7.5213e-10 - mse: 7.5213e-10 - mae: 8.9094e-06 - val_loss: 7.8654e-17 - val_mse: 7.8654e-17 - val_mae: 8.8660e-09\n"
          ]
        }
      ],
      "source": [
        "# Fit LSTM model first\n",
        "history = model.fit(train, y_train_scaled, epochs=30, batch_size=50,\n",
        "                    validation_data=(test,y_test_scaled), \n",
        "                    callbacks=[keras.callbacks.EarlyStopping(monitor='val_loss',\n",
        "                                                             patience=3, mode='min')],\n",
        "                     shuffle=False)"
      ]
    },
    {
      "cell_type": "code",
      "execution_count": null,
      "metadata": {
        "id": "bVN0hIlvlGwQ",
        "colab": {
          "base_uri": "https://localhost:8080/"
        },
        "outputId": "920a7b49-7b10-4873-b598-80889fa6ea1c"
      },
      "outputs": [
        {
          "output_type": "stream",
          "name": "stdout",
          "text": [
            "Epoch 1/15\n",
            "14241/14241 [==============================] - 188s 13ms/step - loss: 1.7190e-06 - mse: 1.7190e-06 - mae: 3.8175e-04 - val_loss: 2.1743e-11 - val_mse: 2.1743e-11 - val_mae: 4.6233e-06\n",
            "Epoch 2/15\n",
            "14241/14241 [==============================] - 166s 12ms/step - loss: 1.5728e-09 - mse: 1.5728e-09 - mae: 1.5196e-05 - val_loss: 4.7783e-13 - val_mse: 4.7783e-13 - val_mae: 6.9099e-07\n",
            "Epoch 3/15\n",
            "14241/14241 [==============================] - 163s 11ms/step - loss: 7.5770e-10 - mse: 7.5770e-10 - mae: 9.6181e-06 - val_loss: 3.1593e-18 - val_mse: 3.1593e-18 - val_mae: 1.6503e-09\n",
            "Epoch 4/15\n",
            "14241/14241 [==============================] - 178s 12ms/step - loss: 7.5903e-10 - mse: 7.5903e-10 - mae: 9.0691e-06 - val_loss: 1.4478e-17 - val_mse: 1.4478e-17 - val_mae: 3.7995e-09\n",
            "Epoch 5/15\n",
            "14241/14241 [==============================] - 161s 11ms/step - loss: 7.6892e-10 - mse: 7.6892e-10 - mae: 9.1159e-06 - val_loss: 5.6419e-17 - val_mse: 5.6419e-17 - val_mae: 7.4658e-09\n",
            "Epoch 6/15\n",
            "14241/14241 [==============================] - 162s 11ms/step - loss: 7.5745e-10 - mse: 7.5745e-10 - mae: 9.0610e-06 - val_loss: 6.9836e-19 - val_mse: 6.9836e-19 - val_mae: 8.0024e-10\n",
            "Epoch 7/15\n",
            "14241/14241 [==============================] - 160s 11ms/step - loss: 7.6041e-10 - mse: 7.6041e-10 - mae: 8.9418e-06 - val_loss: 6.3577e-11 - val_mse: 6.3577e-11 - val_mae: 7.9729e-06\n",
            "Epoch 8/15\n",
            "14241/14241 [==============================] - 160s 11ms/step - loss: 7.7598e-10 - mse: 7.7598e-10 - mae: 9.2623e-06 - val_loss: 1.0173e-11 - val_mse: 1.0173e-11 - val_mae: 3.1897e-06\n",
            "Epoch 9/15\n",
            "14241/14241 [==============================] - 160s 11ms/step - loss: 7.5381e-10 - mse: 7.5381e-10 - mae: 8.9264e-06 - val_loss: 3.3466e-18 - val_mse: 3.3466e-18 - val_mae: 1.7869e-09\n"
          ]
        }
      ],
      "source": [
        "# Fit LSTM model second time\n",
        "history = model.fit(train, y_train_scaled, epochs=15, batch_size=50,\n",
        "                    validation_data=(test,y_test_scaled), \n",
        "                    callbacks=[keras.callbacks.EarlyStopping(monitor='val_loss',\n",
        "                                                             patience=3, mode='min')],\n",
        "                     shuffle=False)"
      ]
    },
    {
      "cell_type": "code",
      "execution_count": null,
      "metadata": {
        "id": "XqlM4tXow_qf"
      },
      "outputs": [],
      "source": [
        "from datetime import datetime\n",
        "def generate_model_name() -> str:\n",
        "    now = datetime.now()\n",
        "    dt_string = now.strftime(\"%d-%m-%Y_%H:%M:%S_LSTM\")\n",
        "    return dt_string"
      ]
    },
    {
      "cell_type": "code",
      "execution_count": null,
      "metadata": {
        "id": "R4MNOj_SlGzL"
      },
      "outputs": [],
      "source": [
        "from pickle import dump \n",
        "def save_model(model) -> None:\n",
        "    try:\n",
        "        file_name = generate_model_name() +'.pkl'\n",
        "        with open(file_name, 'wb') as handle:\n",
        "            dump(model, handle)\n",
        "    except Exception as e:\n",
        "        print('Error while producing model')"
      ]
    },
    {
      "cell_type": "code",
      "execution_count": null,
      "metadata": {
        "id": "bwyylA3plG3M"
      },
      "outputs": [],
      "source": [
        "model.save( generate_model_name()+'.h5')"
      ]
    },
    {
      "cell_type": "code",
      "execution_count": null,
      "metadata": {
        "id": "_7AWeZB-lG6T"
      },
      "outputs": [],
      "source": [
        "# from tensorflow.keras.models import load_model\n",
        " \n",
        "# # load model\n",
        "# model = load_model('model.h5')"
      ]
    },
    {
      "cell_type": "markdown",
      "metadata": {
        "id": "w7hpttb8WoC1"
      },
      "source": [
        "## Prediction"
      ]
    },
    {
      "cell_type": "code",
      "execution_count": null,
      "metadata": {
        "id": "nhxp_3P7Wi11"
      },
      "outputs": [],
      "source": []
    },
    {
      "cell_type": "code",
      "execution_count": null,
      "metadata": {
        "id": "c_Z_TKVUWi4z"
      },
      "outputs": [],
      "source": []
    },
    {
      "cell_type": "code",
      "execution_count": null,
      "metadata": {
        "id": "o70b9GQAWi7K"
      },
      "outputs": [],
      "source": []
    },
    {
      "cell_type": "code",
      "execution_count": null,
      "metadata": {
        "id": "40eNEqtCWi-L"
      },
      "outputs": [],
      "source": []
    }
  ],
  "metadata": {
    "accelerator": "GPU",
    "colab": {
      "collapsed_sections": [],
      "provenance": []
    },
    "gpuClass": "standard",
    "kernelspec": {
      "display_name": "Python 3",
      "name": "python3"
    },
    "language_info": {
      "name": "python"
    }
  },
  "nbformat": 4,
  "nbformat_minor": 0
}