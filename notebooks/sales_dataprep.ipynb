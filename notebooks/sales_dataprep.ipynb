{
 "cells": [
  {
   "cell_type": "code",
   "execution_count": 2,
   "metadata": {},
   "outputs": [],
   "source": [
    "import pandas as pd\n",
    "import numpy as np\n",
    "import io\n",
    "import dvc.api\n",
    "# from pandas_profiling import ProfileReport\n",
    "import matplotlib.pyplot as plt\n",
    "import seaborn as sns\n",
    "import sys, os\n",
    "\n",
    "import warnings; warnings.simplefilter('ignore')"
   ]
  },
  {
   "cell_type": "code",
   "execution_count": 3,
   "metadata": {},
   "outputs": [],
   "source": [
    "sys.path.append(os.path.abspath(os.path.join('../scripts')))"
   ]
  },
  {
   "cell_type": "code",
   "execution_count": 4,
   "metadata": {},
   "outputs": [],
   "source": [
    "df_train = pd.read_csv('../data/df_train.csv')\n",
    "df_test = pd.read_csv('../data/df_test.csv')"
   ]
  },
  {
   "cell_type": "code",
   "execution_count": 5,
   "metadata": {},
   "outputs": [],
   "source": [
    "from data_cleaner import Clean_df"
   ]
  },
  {
   "cell_type": "code",
   "execution_count": 6,
   "metadata": {},
   "outputs": [],
   "source": [
    "train = Clean_df(df_train)\n",
    "test = Clean_df(df_test)"
   ]
  },
  {
   "cell_type": "code",
   "execution_count": 7,
   "metadata": {},
   "outputs": [],
   "source": [
    "train.data_pipeline();\n",
    "test.data_pipeline();"
   ]
  },
  {
   "cell_type": "code",
   "execution_count": 8,
   "metadata": {},
   "outputs": [],
   "source": [
    "train.df.to_csv('../data/df_train_prep.csv')\n",
    "test.df.to_csv('../data/df_test_prep.csv')"
   ]
  },
  {
   "cell_type": "code",
   "execution_count": 9,
   "metadata": {},
   "outputs": [
    {
     "data": {
      "text/html": [
       "<div>\n",
       "<style scoped>\n",
       "    .dataframe tbody tr th:only-of-type {\n",
       "        vertical-align: middle;\n",
       "    }\n",
       "\n",
       "    .dataframe tbody tr th {\n",
       "        vertical-align: top;\n",
       "    }\n",
       "\n",
       "    .dataframe thead th {\n",
       "        text-align: right;\n",
       "    }\n",
       "</style>\n",
       "<table border=\"1\" class=\"dataframe\">\n",
       "  <thead>\n",
       "    <tr style=\"text-align: right;\">\n",
       "      <th></th>\n",
       "      <th>Store</th>\n",
       "      <th>DayOfWeek</th>\n",
       "      <th>Sales</th>\n",
       "      <th>Customers</th>\n",
       "      <th>Open</th>\n",
       "      <th>Promo</th>\n",
       "      <th>StateHoliday</th>\n",
       "      <th>SchoolHoliday</th>\n",
       "      <th>StoreType</th>\n",
       "      <th>Assortment</th>\n",
       "      <th>...</th>\n",
       "      <th>Quarter</th>\n",
       "      <th>Week</th>\n",
       "      <th>Day</th>\n",
       "      <th>WeekOfYear</th>\n",
       "      <th>DayOfYear</th>\n",
       "      <th>IsWeekDay</th>\n",
       "      <th>CompetitionOpenMonthDuration</th>\n",
       "      <th>PromoOpenMonthDuration</th>\n",
       "      <th>Season</th>\n",
       "      <th>Month_Status</th>\n",
       "    </tr>\n",
       "  </thead>\n",
       "  <tbody>\n",
       "    <tr>\n",
       "      <th>518128</th>\n",
       "      <td>439</td>\n",
       "      <td>1</td>\n",
       "      <td>5132</td>\n",
       "      <td>753</td>\n",
       "      <td>1</td>\n",
       "      <td>0</td>\n",
       "      <td>0</td>\n",
       "      <td>0</td>\n",
       "      <td>a</td>\n",
       "      <td>a</td>\n",
       "      <td>...</td>\n",
       "      <td>1</td>\n",
       "      <td>13</td>\n",
       "      <td>24</td>\n",
       "      <td>13</td>\n",
       "      <td>83</td>\n",
       "      <td>1</td>\n",
       "      <td>54.0</td>\n",
       "      <td>24171.25</td>\n",
       "      <td>Spring</td>\n",
       "      <td>End</td>\n",
       "    </tr>\n",
       "    <tr>\n",
       "      <th>619974</th>\n",
       "      <td>820</td>\n",
       "      <td>1</td>\n",
       "      <td>21485</td>\n",
       "      <td>1985</td>\n",
       "      <td>1</td>\n",
       "      <td>0</td>\n",
       "      <td>0</td>\n",
       "      <td>1</td>\n",
       "      <td>a</td>\n",
       "      <td>c</td>\n",
       "      <td>...</td>\n",
       "      <td>4</td>\n",
       "      <td>52</td>\n",
       "      <td>23</td>\n",
       "      <td>52</td>\n",
       "      <td>357</td>\n",
       "      <td>1</td>\n",
       "      <td>1367.0</td>\n",
       "      <td>-9.00</td>\n",
       "      <td>Winter</td>\n",
       "      <td>End</td>\n",
       "    </tr>\n",
       "    <tr>\n",
       "      <th>1000797</th>\n",
       "      <td>313</td>\n",
       "      <td>2</td>\n",
       "      <td>5147</td>\n",
       "      <td>591</td>\n",
       "      <td>1</td>\n",
       "      <td>0</td>\n",
       "      <td>0</td>\n",
       "      <td>0</td>\n",
       "      <td>d</td>\n",
       "      <td>c</td>\n",
       "      <td>...</td>\n",
       "      <td>1</td>\n",
       "      <td>3</td>\n",
       "      <td>15</td>\n",
       "      <td>3</td>\n",
       "      <td>15</td>\n",
       "      <td>1</td>\n",
       "      <td>1356.0</td>\n",
       "      <td>24156.75</td>\n",
       "      <td>Winter</td>\n",
       "      <td>Mid</td>\n",
       "    </tr>\n",
       "    <tr>\n",
       "      <th>637742</th>\n",
       "      <td>748</td>\n",
       "      <td>6</td>\n",
       "      <td>5674</td>\n",
       "      <td>506</td>\n",
       "      <td>1</td>\n",
       "      <td>0</td>\n",
       "      <td>0</td>\n",
       "      <td>0</td>\n",
       "      <td>d</td>\n",
       "      <td>a</td>\n",
       "      <td>...</td>\n",
       "      <td>4</td>\n",
       "      <td>49</td>\n",
       "      <td>7</td>\n",
       "      <td>49</td>\n",
       "      <td>341</td>\n",
       "      <td>0</td>\n",
       "      <td>45.0</td>\n",
       "      <td>32.75</td>\n",
       "      <td>Winter</td>\n",
       "      <td>Beginning</td>\n",
       "    </tr>\n",
       "    <tr>\n",
       "      <th>374580</th>\n",
       "      <td>907</td>\n",
       "      <td>3</td>\n",
       "      <td>7355</td>\n",
       "      <td>1027</td>\n",
       "      <td>1</td>\n",
       "      <td>1</td>\n",
       "      <td>0</td>\n",
       "      <td>1</td>\n",
       "      <td>a</td>\n",
       "      <td>c</td>\n",
       "      <td>...</td>\n",
       "      <td>3</td>\n",
       "      <td>32</td>\n",
       "      <td>6</td>\n",
       "      <td>32</td>\n",
       "      <td>218</td>\n",
       "      <td>1</td>\n",
       "      <td>1375.0</td>\n",
       "      <td>24176.00</td>\n",
       "      <td>Summer</td>\n",
       "      <td>Beginning</td>\n",
       "    </tr>\n",
       "  </tbody>\n",
       "</table>\n",
       "<p>5 rows × 27 columns</p>\n",
       "</div>"
      ],
      "text/plain": [
       "         Store  DayOfWeek  Sales  Customers  Open  Promo StateHoliday  \\\n",
       "518128     439          1   5132        753     1      0            0   \n",
       "619974     820          1  21485       1985     1      0            0   \n",
       "1000797    313          2   5147        591     1      0            0   \n",
       "637742     748          6   5674        506     1      0            0   \n",
       "374580     907          3   7355       1027     1      1            0   \n",
       "\n",
       "         SchoolHoliday StoreType Assortment  ...  Quarter  Week Day  \\\n",
       "518128               0         a          a  ...        1    13  24   \n",
       "619974               1         a          c  ...        4    52  23   \n",
       "1000797              0         d          c  ...        1     3  15   \n",
       "637742               0         d          a  ...        4    49   7   \n",
       "374580               1         a          c  ...        3    32   6   \n",
       "\n",
       "         WeekOfYear  DayOfYear  IsWeekDay  CompetitionOpenMonthDuration  \\\n",
       "518128           13         83          1                          54.0   \n",
       "619974           52        357          1                        1367.0   \n",
       "1000797           3         15          1                        1356.0   \n",
       "637742           49        341          0                          45.0   \n",
       "374580           32        218          1                        1375.0   \n",
       "\n",
       "         PromoOpenMonthDuration  Season  Month_Status  \n",
       "518128                 24171.25  Spring           End  \n",
       "619974                    -9.00  Winter           End  \n",
       "1000797                24156.75  Winter           Mid  \n",
       "637742                    32.75  Winter     Beginning  \n",
       "374580                 24176.00  Summer     Beginning  \n",
       "\n",
       "[5 rows x 27 columns]"
      ]
     },
     "execution_count": 9,
     "metadata": {},
     "output_type": "execute_result"
    }
   ],
   "source": [
    "train.df.sample(5)"
   ]
  },
  {
   "cell_type": "code",
   "execution_count": 10,
   "metadata": {},
   "outputs": [
    {
     "data": {
      "text/plain": [
       "Store                             int64\n",
       "DayOfWeek                         int64\n",
       "Open                            float64\n",
       "Promo                             int64\n",
       "StateHoliday                     object\n",
       "SchoolHoliday                     int64\n",
       "StoreType                        object\n",
       "Assortment                       object\n",
       "CompetitionDistance             float64\n",
       "Promo2                            int64\n",
       "PromoInterval                    object\n",
       "Until_Holiday                     int64\n",
       "Since_Holiday                   float64\n",
       "Year                              int64\n",
       "Month                             int64\n",
       "Quarter                           int64\n",
       "Week                              int64\n",
       "Day                               int64\n",
       "WeekOfYear                        int64\n",
       "DayOfYear                         int64\n",
       "IsWeekDay                         int64\n",
       "CompetitionOpenMonthDuration    float64\n",
       "PromoOpenMonthDuration          float64\n",
       "Season                           object\n",
       "Month_Status                     object\n",
       "dtype: object"
      ]
     },
     "execution_count": 10,
     "metadata": {},
     "output_type": "execute_result"
    }
   ],
   "source": [
    "test.df.dtypes"
   ]
  },
  {
   "cell_type": "code",
   "execution_count": null,
   "metadata": {},
   "outputs": [],
   "source": [
    "\n"
   ]
  },
  {
   "cell_type": "code",
   "execution_count": null,
   "metadata": {},
   "outputs": [],
   "source": []
  },
  {
   "cell_type": "code",
   "execution_count": 11,
   "metadata": {},
   "outputs": [],
   "source": [
    "from sklearn.pipeline import make_pipeline\n",
    "from sklearn.compose import ColumnTransformer\n",
    "from sklearn.preprocessing import StandardScaler, PowerTransformer, OneHotEncoder\n",
    "from sklearn.impute import SimpleImputer\n",
    "from sklearn.model_selection import train_test_split\n",
    "from sklearn.linear_model import LinearRegression\n",
    "from sklearn.ensemble import RandomForestRegressor\n",
    "from sklearn.tree import DecisionTreeRegressor\n",
    "\n",
    "from sklearn.pipeline import Pipeline\n",
    "from sklearn.metrics import mean_squared_error\n",
    "\n",
    "cont_pipeline = make_pipeline(\n",
    "    SimpleImputer(strategy = 'median'),\n",
    "    PowerTransformer(method = 'yeo-johnson', standardize = False),\n",
    "    StandardScaler()\n",
    ")\n",
    "disc_pipeline = make_pipeline(\n",
    "    SimpleImputer(strategy = 'constant', fill_value = -1),\n",
    "    StandardScaler()\n",
    ")\n",
    "cat_pipeline = make_pipeline(\n",
    "    SimpleImputer(strategy = 'constant', fill_value = 'unknown'),\n",
    "    OneHotEncoder()\n",
    ")"
   ]
  },
  {
   "cell_type": "code",
   "execution_count": 12,
   "metadata": {},
   "outputs": [],
   "source": [
    "X_train = train.df.drop(columns=['Sales','Customers'],axis=1).copy(deep=True)\n",
    "Y_train = train.df['Sales'].copy(deep=True)\n",
    "X_test = test.df.copy(deep=True)"
   ]
  },
  {
   "cell_type": "code",
   "execution_count": 13,
   "metadata": {},
   "outputs": [],
   "source": [
    "cont_cols = ['DayOfWeek', 'Until_Holiday', 'Since_Holiday','CompetitionOpenMonthDuration','CompetitionDistance','PromoOpenMonthDuration']\n",
    "num_cols = list(X_train.select_dtypes(include = 'number').columns)\n",
    "cat_cols = list(set(X_train.columns)-set(num_cols))\n",
    "disc_cols = list(set(num_cols) - set(cont_cols))\n"
   ]
  },
  {
   "cell_type": "code",
   "execution_count": 14,
   "metadata": {},
   "outputs": [],
   "source": [
    "preprocessor = ColumnTransformer(\n",
    "    transformers = [\n",
    "        ('continuous', cont_pipeline, cont_cols),\n",
    "        ('discrete', disc_pipeline, disc_cols),\n",
    "        ('categorical', cat_pipeline, cat_cols)\n",
    "    ]\n",
    ")\n",
    "\n",
    "\n"
   ]
  },
  {
   "cell_type": "code",
   "execution_count": 15,
   "metadata": {},
   "outputs": [
    {
     "data": {
      "text/plain": [
       "ColumnTransformer(transformers=[('continuous',\n",
       "                                 Pipeline(steps=[('simpleimputer',\n",
       "                                                  SimpleImputer(strategy='median')),\n",
       "                                                 ('powertransformer',\n",
       "                                                  PowerTransformer(standardize=False)),\n",
       "                                                 ('standardscaler',\n",
       "                                                  StandardScaler())]),\n",
       "                                 ['DayOfWeek', 'Until_Holiday', 'Since_Holiday',\n",
       "                                  'CompetitionOpenMonthDuration',\n",
       "                                  'CompetitionDistance',\n",
       "                                  'PromoOpenMonthDuration']),\n",
       "                                ('discrete',\n",
       "                                 Pipel...\n",
       "                                 ['Open', 'Store', 'Year', 'Day', 'Month',\n",
       "                                  'DayOfYear', 'Promo', 'IsWeekDay', 'Week',\n",
       "                                  'Promo2', 'SchoolHoliday', 'WeekOfYear',\n",
       "                                  'Quarter']),\n",
       "                                ('categorical',\n",
       "                                 Pipeline(steps=[('simpleimputer',\n",
       "                                                  SimpleImputer(fill_value='unknown',\n",
       "                                                                strategy='constant')),\n",
       "                                                 ('onehotencoder',\n",
       "                                                  OneHotEncoder())]),\n",
       "                                 ['StoreType', 'PromoInterval', 'Season',\n",
       "                                  'Month_Status', 'Assortment',\n",
       "                                  'StateHoliday'])])"
      ]
     },
     "execution_count": 15,
     "metadata": {},
     "output_type": "execute_result"
    }
   ],
   "source": [
    "preprocessor.fit(X_train)\n",
    "preprocessor.fit(X_test)\n"
   ]
  },
  {
   "cell_type": "code",
   "execution_count": 16,
   "metadata": {},
   "outputs": [],
   "source": []
  },
  {
   "cell_type": "code",
   "execution_count": 1,
   "metadata": {},
   "outputs": [],
   "source": [
    "def quick_eval(pipeline, X,Y, verbose=True):\n",
    "    \"\"\"\n",
    "    Quickly trains modeling pipeline and evaluates on test data. Returns original model, training RMSE, and testing\n",
    "    RMSE as a tuple.\n",
    "    \"\"\"\n",
    "    \n",
    "    X_train, X_test, y_train, y_test = train_test_split(\n",
    "    X, Y, test_size=0.33, random_state=42)\n",
    "    \n",
    "    pipeline.fit(X_train, y_train)\n",
    "    y_train_pred = pipeline.predict(X_train)\n",
    "    y_test_pred = pipeline.predict(X_test)\n",
    "    \n",
    "    train_score = np.sqrt(mean_squared_error(y_train, y_train_pred))\n",
    "    test_score = np.sqrt(mean_squared_error(y_test, y_test_pred))\n",
    "    \n",
    "    if verbose:\n",
    "        print(f\"Regression algorithm: {pipeline.named_steps['regressor'].__class__.__name__}\")\n",
    "        print(f\"Train RMSE: {train_score}\")\n",
    "        print(f\"Test RMSE: {test_score}\")\n",
    "    \n",
    "    return pipeline.named_steps['regressor'], train_score, test_score\n",
    "\n"
   ]
  },
  {
   "cell_type": "code",
   "execution_count": 17,
   "metadata": {},
   "outputs": [
    {
     "name": "stdout",
     "output_type": "stream",
     "text": [
      "Regression algorithm: LinearRegression\n",
      "Train RMSE: 2484.003965585784\n",
      "Test RMSE: 2487.3412518547602\n",
      "\n",
      "Regression algorithm: DecisionTreeRegressor\n",
      "Train RMSE: 0.0\n",
      "Test RMSE: 1194.0668787443592\n",
      "\n"
     ]
    },
    {
     "ename": "",
     "evalue": "",
     "output_type": "error",
     "traceback": [
      "\u001b[1;31mCanceled future for execute_request message before replies were done"
     ]
    },
    {
     "ename": "",
     "evalue": "",
     "output_type": "error",
     "traceback": [
      "\u001b[1;31mThe Kernel crashed while executing code in the the current cell or a previous cell. Please review the code in the cell(s) to identify a possible cause of the failure. Click <a href='https://aka.ms/vscodeJupyterKernelCrash'>here</a> for more info. View Jupyter <a href='command:jupyter.viewOutput'>log</a> for further details."
     ]
    }
   ],
   "source": [
    "regressors = [\n",
    "    LinearRegression(),\n",
    "    DecisionTreeRegressor(),\n",
    "    RandomForestRegressor(n_estimators=200,max_features=20),\n",
    "]\n",
    "\n",
    "for r in regressors:\n",
    "    pipe = Pipeline(steps = [\n",
    "        ('preprocessor', preprocessor),\n",
    "        ('regressor', r)\n",
    "    ])\n",
    "\n",
    "    quick_eval(pipe, X_train,Y_train)\n",
    "    print()"
   ]
  },
  {
   "cell_type": "markdown",
   "metadata": {},
   "source": [
    "## Feature Importance Analysis"
   ]
  },
  {
   "cell_type": "code",
   "execution_count": null,
   "metadata": {},
   "outputs": [],
   "source": [
    "from sklearn.model_selection import KFold\n",
    "\n",
    "# pipeline to estimate feature importances\n",
    "total_features = preprocessor.fit_transform(X_train).shape[1]\n",
    "rf = Pipeline(steps = [\n",
    "        ('preprocessor', preprocessor),\n",
    "        ('regressor', RandomForestRegressor(max_features=np.int(total_features/3)))\n",
    "])\n",
    "\n",
    "# get variable ranks for each fold\n",
    "var_ranks = []\n",
    "kf = KFold(n_splits=5, random_state=42, shuffle=True)\n",
    "for tr_idx, val_idx in kf.split(X_train):\n",
    "    X_train_cv, y_train_cv = X_train.iloc[tr_idx], y_train.iloc[tr_idx]\n",
    "    X_val_cv, y_val_cv = X_train.iloc[val_idx], y_train.iloc[val_idx]\n",
    "    \n",
    "    output = quick_eval(rf, X_train_cv, y_train_cv, X_val_cv, y_val_cv, verbose=False) \n",
    "    var_ranks.append(list(output[0].feature_importances_))"
   ]
  }
 ],
 "metadata": {
  "kernelspec": {
   "display_name": "Python 3.6.13 ('issue')",
   "language": "python",
   "name": "python3"
  },
  "language_info": {
   "codemirror_mode": {
    "name": "ipython",
    "version": 3
   },
   "file_extension": ".py",
   "mimetype": "text/x-python",
   "name": "python",
   "nbconvert_exporter": "python",
   "pygments_lexer": "ipython3",
   "version": "3.7.13"
  },
  "orig_nbformat": 4,
  "vscode": {
   "interpreter": {
    "hash": "6f5af68d51c57781d0b00fa1a5ec382e98a5ea5ae87a311f64851d69a9e898f0"
   }
  }
 },
 "nbformat": 4,
 "nbformat_minor": 2
}
